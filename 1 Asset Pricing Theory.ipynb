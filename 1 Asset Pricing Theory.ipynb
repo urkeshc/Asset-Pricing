{
 "cells": [
  {
   "cell_type": "code",
   "execution_count": 178,
   "id": "3ae3601e",
   "metadata": {},
   "outputs": [],
   "source": [
    "import pandas as pd\n",
    "import numpy as np\n",
    "import math\n",
    "import statsmodels.api as sm\n",
    "import scipy.stats as stats\n",
    "import matplotlib.pyplot as plt\n",
    "from sklearn.metrics import mean_squared_error, mean_absolute_error, r2_score"
   ]
  },
  {
   "cell_type": "code",
   "execution_count": 179,
   "id": "e5d9db5b",
   "metadata": {},
   "outputs": [],
   "source": [
    "# Data cleaning for Fama-French 3 factors portfolio and 25 portfolio on size and book to market value datasets"
   ]
  },
  {
   "cell_type": "markdown",
   "id": "531294d7-a4b4-4589-a759-5995d107dfa7",
   "metadata": {},
   "source": [
    "In this section: \n",
    "- (a) Evaluate the CAPM by reporting all the numbers above for the sample starting in 1947m01 and ending now.\n",
    "- (b) Repeat, using the sample from 193201 to 196212\n",
    "\n",
    "For part (a)\n",
    "- (i) Do you see a pattern that high average returns are associated with high betas?\n",
    "- (ii) Is the market premium ˆλ significant in the time series estimate?\n",
    "- (iii) Is the CAPM rejected in the time-series estimate?\n",
    "- (iv) How does the estimate of ˆλ and the ˆα in the cross sectional regression with a free constant differ from that of the time-series regression? Track down where this difference comes from there is an important lesson here. (Hint: look at the expected return vs beta graphs.)\n",
    "- (v) How does the estimate of ˆλ when we force the intercept to zero and price the factors compare?\n",
    "\n",
    "To evaluate the CAPM, just chi squared test would suffice. In the part D."
   ]
  },
  {
   "cell_type": "markdown",
   "id": "e09a8b00-b4e3-460b-9694-7708755b4c1c",
   "metadata": {},
   "source": [
    "# a) Evaluate the CAPM for the data starting from 1947 onwards"
   ]
  },
  {
   "cell_type": "code",
   "execution_count": 180,
   "id": "5823b99f",
   "metadata": {},
   "outputs": [],
   "source": [
    "# read the 25 portfolio on size and book to market value\n",
    "file_path = '~/Desktop/AM Courses/25_Portfolios_5x5.CSV'\n",
    "portfolio_24 = pd.read_csv(file_path)\n",
    "portfolio_25 = portfolio_24.dropna()\n",
    "portfolio_25['Date'] = portfolio_25['Date'].astype(str)\n",
    "portfolio_25['Date'] = portfolio_25['Date'].str[:4] + '-' + portfolio_25['Date'].str[4:6]"
   ]
  },
  {
   "cell_type": "code",
   "execution_count": 181,
   "id": "4bb96b25-cb84-44a1-aba3-2b7809d09915",
   "metadata": {},
   "outputs": [],
   "source": [
    "portfolio_25 = portfolio_25.set_index('Date')"
   ]
  },
  {
   "cell_type": "code",
   "execution_count": 182,
   "id": "2cf90137-6b07-4f3e-93c0-ca2c9e4dbc99",
   "metadata": {},
   "outputs": [],
   "source": [
    "portfolio_25 = portfolio_25[portfolio_25.index >= \"1947-01\"]"
   ]
  },
  {
   "cell_type": "markdown",
   "id": "e411b29e-a3b7-44c0-bd15-6df376917d65",
   "metadata": {},
   "source": [
    "- "
   ]
  },
  {
   "cell_type": "code",
   "execution_count": 183,
   "id": "7e323e11-bcb7-45ad-aaf4-44fe70b7689f",
   "metadata": {},
   "outputs": [],
   "source": [
    "# read the Fama-French three factors model dataset\n",
    "files_2 = '~/Desktop/AM Courses/F-F_Research_Data_Factors.CSV'\n",
    "ff3raw = pd.read_csv(files_2)\n",
    "ff3 = ff3raw.dropna()\n",
    "ff3['Date'] = ff3['Date'].astype(str)\n",
    "ff3['Date'] = ff3['Date'].str[:4] + '-' + ff3['Date'].str[4:6]"
   ]
  },
  {
   "cell_type": "code",
   "execution_count": 184,
   "id": "c81b7abb-4da7-4d15-947e-61aaf19cd67e",
   "metadata": {},
   "outputs": [],
   "source": [
    "ff3 = ff3.set_index('Date')"
   ]
  },
  {
   "cell_type": "code",
   "execution_count": 185,
   "id": "f7132a96-edd9-46b0-a7cd-b7fd1628da9d",
   "metadata": {},
   "outputs": [],
   "source": [
    "ff3 = ff3[ff3.index >= \"1947-01\"]\n",
    "chosen_columns = ['RF', 'Mkt-RF']\n",
    "ff3 = ff3[chosen_columns]"
   ]
  },
  {
   "cell_type": "code",
   "execution_count": 186,
   "id": "01146edb-f3e1-479a-bca9-99a26b0170a9",
   "metadata": {},
   "outputs": [],
   "source": [
    "ff3= pd.DataFrame(ff3)"
   ]
  },
  {
   "cell_type": "markdown",
   "id": "2cf80c67-0f4b-4c54-a791-e67555eb3302",
   "metadata": {},
   "source": [
    "- "
   ]
  },
  {
   "cell_type": "code",
   "execution_count": 187,
   "id": "27ecbbf4-79da-4b5b-b584-83011981890d",
   "metadata": {},
   "outputs": [],
   "source": [
    "portfolio_25 = portfolio_25.sub(ff3['RF'], axis=0)"
   ]
  },
  {
   "cell_type": "code",
   "execution_count": 188,
   "id": "8e866eae",
   "metadata": {},
   "outputs": [],
   "source": [
    "# Done with data cleaning!!!"
   ]
  },
  {
   "cell_type": "markdown",
   "id": "1e7b7ee3-500b-4fe7-b345-2d1696c17f94",
   "metadata": {},
   "source": [
    "-"
   ]
  },
  {
   "cell_type": "markdown",
   "id": "5b3a3511-a766-4b75-a5e8-d1efe27edeef",
   "metadata": {},
   "source": [
    "Question a)\n",
    "alpha: 0.08146747580174159\n",
    "beta: 1.0801427322154626\n",
    "    \n",
    "          lambda  Standard_Error of lambda    t-stat   p-value\n",
    "Mkt-RF  0.661457                  0.142257  4.649727  1\n",
    "\n",
    "Test Stat: 15.07273840971547\n",
    "    \n",
    "Critical Value 37.814727903251179\n",
    "P Value: 0.0017555322636835236\n",
    "0.22768887103800975\n",
    "\n",
    "lambda_0_hat:  1.3314874333151967\n",
    "lambda_hat:  -0.495816420281745\n",
    "RMSE: 0.1631792153471947\n",
    "MAE: 0.1311977018202363\n",
    "R^2 1st: 0.11352735717366258\n",
    "R^2 2nd: 0.11352735717366269\n",
    "R^2 3rd: 0.14898626288671624\n",
    "\n",
    "lambda_0_hat\tlambda_mkt\n",
    "\t1.331487\t-0.495816"
   ]
  },
  {
   "cell_type": "markdown",
   "id": "aff813e9-56be-414d-9986-7d10ea1a1ff8",
   "metadata": {},
   "source": [
    "-"
   ]
  },
  {
   "cell_type": "markdown",
   "id": "a58ca531-8ffa-4ad7-83b4-ddfb03a43160",
   "metadata": {},
   "source": [
    "part a) compute alpha and beta"
   ]
  },
  {
   "cell_type": "code",
   "execution_count": 189,
   "id": "0db5a996-b1aa-485f-9c61-7d50f68bed02",
   "metadata": {},
   "outputs": [
    {
     "name": "stdout",
     "output_type": "stream",
     "text": [
      "alpha: 0.0818689377822116\n",
      "beta: 1.0803663041234643\n"
     ]
    }
   ],
   "source": [
    "# Define columns and corresponding index in results.params and results.bse\n",
    "columns = [\n",
    "    ('alpha', 0), \n",
    "    ('beta mkt', 1), \n",
    "]\n",
    "\n",
    "# Initialize DataFrame with columns named after the first elements of the tuples in the columns list\n",
    "df1 = pd.DataFrame(columns=[col[0] for col in columns])\n",
    "\n",
    "# Iterate over portfolios' columns and fit model for each\n",
    "for name in portfolio_25.columns:\n",
    "    # Ensure X (independent variables) is numeric\n",
    "    X = sm.add_constant(ff3.iloc[:, 1:])\n",
    "    Y = portfolio_25[name]\n",
    "\n",
    "    model = sm.OLS(Y, X, missing='drop')\n",
    "    results = model.fit()\n",
    "    \n",
    "    # Assign computed values to the DataFrame\n",
    "    for col, idx in columns:\n",
    "        df1.loc[name, col] = float(results.params[idx])\n",
    "\n",
    "# Print the resulting DataFrame\n",
    "print(\"alpha:\", df1['alpha'].mean())\n",
    "print(\"beta:\", df1['beta mkt'].mean())"
   ]
  },
  {
   "cell_type": "markdown",
   "id": "f514e80d-4497-4dad-9c24-6b7f1ea402bc",
   "metadata": {},
   "source": [
    "part b) estimated lambda"
   ]
  },
  {
   "cell_type": "code",
   "execution_count": 190,
   "id": "23e5137d-4bbb-4e19-b79f-6085cae47111",
   "metadata": {},
   "outputs": [
    {
     "name": "stdout",
     "output_type": "stream",
     "text": [
      "          lambda  Standard_Error of lambda    t-stat   p-value\n",
      "Mkt-RF  0.664777                  0.142373  4.669258  0.000003\n"
     ]
    }
   ],
   "source": [
    "# Estimate lambda\n",
    "\n",
    "# Initializing DataFrame\n",
    "df_lambda = pd.DataFrame(columns=['lambda', 'Standard_Error of lambda', 't-stat', 'p-value'])\n",
    "\n",
    "# Iterate over x in ff3 Dataset\n",
    "for x in ff3.columns[1:]: # excluding the last column whcih is risk-free rate\n",
    "    x_len = ff3[x]\n",
    "    lambda_mean = x_len.mean()\n",
    "    se_lambda = x_len.std() / np.sqrt(len(x_len))\n",
    "    t_stat = lambda_mean / se_lambda\n",
    "    \n",
    "    # Getting the p-value\n",
    "    # Assuming a two-tailed test, hence multiplying by 2\n",
    "    p_value = 2 * (1 - stats.t.cdf(np.abs(t_stat), df=len(x_len)-1))\n",
    "    \n",
    "    # Assigning values to the DataFrame in one line\n",
    "    df_lambda.loc[x] = [lambda_mean, se_lambda, t_stat, p_value]\n",
    "\n",
    "# Print the resulting DataFrame\n",
    "print(df_lambda.iloc[:1, ])"
   ]
  },
  {
   "cell_type": "markdown",
   "id": "1881c865-1c6e-4f8e-93c9-cd67a09172a3",
   "metadata": {},
   "source": [
    "# part d) Chi^2 test, Test Stat, critical value, p value"
   ]
  },
  {
   "cell_type": "code",
   "execution_count": 191,
   "id": "bb761f7b-6d91-4e3d-b7a5-438d993edc1e",
   "metadata": {},
   "outputs": [
    {
     "name": "stdout",
     "output_type": "stream",
     "text": [
      "114.42114253304545\n"
     ]
    }
   ],
   "source": [
    "# Define columns and corresponding index in results.params and results.bse\n",
    "columns = [\n",
    "    ('alpha', 0), \n",
    "    ('beta mkt', 1), \n",
    "]\n",
    "\n",
    "# Initialize DataFrame with columns named after the first elements of the tuples in the columns list\n",
    "df1 = pd.DataFrame(columns=[col[0] for col in columns])\n",
    "\n",
    "# Iterate over portfolios' columns and fit model for each\n",
    "for name in portfolio_25.columns:\n",
    "    # Ensure X (independent variables) is numeric\n",
    "    X = sm.add_constant(ff3['Mkt-RF'])\n",
    "    Y = portfolio_25[name]\n",
    "\n",
    "    model = sm.OLS(Y, X, missing='drop')\n",
    "    results = model.fit()\n",
    "    \n",
    "    # Assign computed values to the DataFrame\n",
    "    for col, idx in columns:\n",
    "        df1.loc[name, col] = float(results.params[idx])\n",
    "\n",
    "# Number of observations\n",
    "T = len(ff3['Mkt-RF'])\n",
    "\n",
    "# vector f (lambdas)  1*1\n",
    "f = np.array([df_lambda['lambda']['Mkt-RF']])\n",
    "\n",
    "# covariance matrix f (1x1 for CAPM, which is variance in this case)\n",
    "factor_cov_mat = np.array([[ff3['Mkt-RF'].var()]])\n",
    "\n",
    "# alpha 25*1\n",
    "alpha_vector = np.array(df1['alpha'])\n",
    "\n",
    "# covariance matrix of residuals\n",
    "residuals_df = pd.DataFrame(index=ff3.index, columns=df1.index.tolist())\n",
    "for portfolio in residuals_df.columns:\n",
    "    alpha = df1.loc[portfolio, 'alpha']\n",
    "    beta_mkt = df1.loc[portfolio, 'beta mkt']\n",
    "    \n",
    "    expected_return = alpha + beta_mkt * ff3['Mkt-RF']\n",
    "    residuals_df[portfolio] = portfolio_25[portfolio] - expected_return\n",
    "\n",
    "residuals_cov_matrix = residuals_df.cov().values\n",
    "\n",
    "# calculate test statistics\n",
    "test_statistic = T * (1 / (1 + f.T @ np.linalg.inv(factor_cov_mat) @ f)) * \\\n",
    "                    alpha_vector.T @ np.linalg.inv(residuals_cov_matrix) @ alpha_vector\n",
    "\n",
    "print(test_statistic)"
   ]
  },
  {
   "cell_type": "code",
   "execution_count": 192,
   "id": "53f930eb-2151-4cda-a7b3-00a2bdda0220",
   "metadata": {},
   "outputs": [],
   "source": [
    "# correct t stat to 113"
   ]
  },
  {
   "cell_type": "code",
   "execution_count": 193,
   "id": "cbcfe843-bf7a-4b7c-bae8-6138de277ae9",
   "metadata": {},
   "outputs": [
    {
     "name": "stdout",
     "output_type": "stream",
     "text": [
      "37.65248413348277\n",
      "2.107203300738547e-13\n",
      "0.22740959090831278\n"
     ]
    }
   ],
   "source": [
    "# the 5% critical value\n",
    "# N is the number of degrees of freedom\n",
    "N=25\n",
    "critical_value = stats.chi2.ppf(0.95, df=N)\n",
    "print(critical_value)\n",
    "\n",
    "# T is the computed test statistic\n",
    "p_value = 1 - stats.chi2.cdf(test_statistic, df=N)\n",
    "print(p_value)\n",
    "# the root mean square\n",
    "rms_alpha = np.sqrt(np.mean(df1['alpha']**2))\n",
    "print(rms_alpha)"
   ]
  },
  {
   "cell_type": "markdown",
   "id": "e7082147-4098-4811-86cf-aabd9823c0e3",
   "metadata": {},
   "source": [
    "# Regressions with/without constants"
   ]
  },
  {
   "cell_type": "code",
   "execution_count": 194,
   "id": "8fadd1cf-347b-47e8-91bd-32a3ef9e550a",
   "metadata": {},
   "outputs": [
    {
     "name": "stdout",
     "output_type": "stream",
     "text": [
      "lambda_0_hat:  1.322377454784267\n",
      "lambda_hat:  -0.4834526202033337\n",
      "RMSE: 0.16239024789909293\n",
      "MAE: 0.12929514256629088\n",
      "R^2 1st: 0.11136451102358957\n",
      "R^2 2nd: 0.11136451102358957\n",
      "R^2 3rd: 0.146909930582646\n"
     ]
    }
   ],
   "source": [
    "# cross section with constant\n",
    "\n",
    "#f1['alpha'] = pd.to_numeric(df1['alpha'], errors='coerce')\n",
    "df1['beta mkt'] = pd.to_numeric(df1['beta mkt'], errors='coerce')\n",
    "\n",
    "X = sm.add_constant(df1[['beta mkt']])\n",
    "Y = portfolio_25.mean()\n",
    "model = sm.OLS(Y, X)\n",
    "results = model.fit()\n",
    "results.params\n",
    "\n",
    "# i)Estimates λˆ0 λˆ\n",
    "lambda_0_hat = results.params[0]\n",
    "lambda_mkt = results.params[1]\n",
    "print('lambda_0_hat: ',lambda_0_hat)\n",
    "print('lambda_hat: ',lambda_mkt)\n",
    "\n",
    "cross_with_constant_lambda_df = pd.DataFrame({'lambda_0_hat':lambda_0_hat,'lambda_mkt':lambda_mkt},index=[0])\n",
    "\n",
    "#ii) Root mean square and mean absolute pricing errors ˆα, and the R2 of actual vs. predicted mean returns\n",
    "df_part_e = pd.DataFrame()\n",
    "df_part_e['pricing_error_alpha'] = Y - X.dot(results.params)\n",
    "\n",
    "rmse = np.sqrt(((df_part_e['pricing_error_alpha'])**2).mean())\n",
    "mae = df_part_e['pricing_error_alpha'].abs().mean()\n",
    "#sst = ((Y - Y.mean())**2).sum()\n",
    "#ssr = ((df_part_e['pricing_error_alpha'])**2).sum()\n",
    "ss_tot = ((Y - Y.mean())**2).sum()\n",
    "ss_res = ((df_part_e['pricing_error_alpha'])**2).sum()\n",
    "\n",
    "r2_1 = 1 - ss_res/ss_tot\n",
    "#r2_1 = (X.dot(results.params)).var()/Y.var()\n",
    "r2_2 = 1 - (df_part_e['pricing_error_alpha']).var()/Y.var()\n",
    "r2_3 = 1 -((df_part_e['pricing_error_alpha'])**2).mean()/Y.var()\n",
    "\n",
    "print(f\"RMSE: {rmse}\")\n",
    "print(f\"MAE: {mae}\")\n",
    "print(f\"R^2 1st: {r2_1}\")\n",
    "print(f\"R^2 2nd: {r2_2}\")\n",
    "print(f\"R^2 3rd: {r2_3}\")"
   ]
  },
  {
   "cell_type": "markdown",
   "id": "214f860c-fbb3-471c-8f85-5b721b73f64a",
   "metadata": {},
   "source": [
    "- "
   ]
  },
  {
   "cell_type": "code",
   "execution_count": 195,
   "id": "ddd80bf0",
   "metadata": {},
   "outputs": [
    {
     "name": "stdout",
     "output_type": "stream",
     "text": [
      "lambda_mkt:  0.7259054494926614\n",
      "RMSE: 0.21748758116833894\n",
      "MAE: 0.15896590055747972\n",
      "R^2 1st: -0.5939426457115653\n",
      "R^2 2nd: -0.5855007118617643\n",
      "R^2 3rd: -0.5301849398831029\n"
     ]
    }
   ],
   "source": [
    "# cross section without a constant\n",
    "df1['beta mkt'] = pd.to_numeric(df1['beta mkt'], errors='coerce')\n",
    "\n",
    "X = df1[['beta mkt']]  # Exclude the constant term\n",
    "Y = portfolio_25.mean()\n",
    "\n",
    "model = sm.OLS(Y, X)\n",
    "results = model.fit()\n",
    "results.params\n",
    "\n",
    "# i) Estimates λˆ0 λˆ\n",
    "lambda_mkt = results.params['beta mkt']\n",
    "print('lambda_mkt: ', lambda_mkt)\n",
    "\n",
    "cross_without_constant_lambda_df = pd.DataFrame({'lambda_mkt': lambda_mkt}, index=[0])\n",
    "\n",
    "# ii) Root mean square and mean absolute pricing errors ˆα, and the R2 of actual vs. predicted mean returns\n",
    "df_part_e = pd.DataFrame()\n",
    "df_part_e['pricing_error_alpha'] = Y - X.dot(results.params)\n",
    "\n",
    "rmse = np.sqrt(((df_part_e['pricing_error_alpha'])**2).mean())\n",
    "mae = df_part_e['pricing_error_alpha'].abs().mean()\n",
    "ss_tot = ((Y - Y.mean())**2).sum()\n",
    "ss_res = ((df_part_e['pricing_error_alpha'])**2).sum()\n",
    "\n",
    "r2_1 = 1 - ss_res/ss_tot\n",
    "r2_2 = 1 - (df_part_e['pricing_error_alpha']).var()/Y.var()\n",
    "r2_3 = 1 -((df_part_e['pricing_error_alpha'])**2).mean()/Y.var()\n",
    "\n",
    "print(f\"RMSE: {rmse}\")\n",
    "print(f\"MAE: {mae}\")\n",
    "print(f\"R^2 1st: {r2_1}\")\n",
    "print(f\"R^2 2nd: {r2_2}\")\n",
    "print(f\"R^2 3rd: {r2_3}\")"
   ]
  },
  {
   "cell_type": "markdown",
   "id": "76384db3-bf17-486b-b9f7-4a83103bbebf",
   "metadata": {},
   "source": [
    "# Plots"
   ]
  },
  {
   "cell_type": "code",
   "execution_count": 196,
   "id": "cd66953e-3d28-47e7-9631-334395f74755",
   "metadata": {},
   "outputs": [
    {
     "data": {
      "image/png": "[encoded data removed]",
      "text/plain": [
       "<Figure size 1000x600 with 1 Axes>"
      ]
     },
     "metadata": {},
     "output_type": "display_data"
    }
   ],
   "source": [
    "plt.figure(figsize=(10,6))\n",
    "\n",
    "# Scatter Plot for Test Assets and Factors\n",
    "plt.scatter(df1['beta mkt'], portfolio_25.mean(), c='b', label='TS')\n",
    "\n",
    "# Plotting the Fitted Lines\n",
    "x = np.linspace(0, 2, 100)\n",
    "plt.ylim(bottom=0)\n",
    "\n",
    "plt.plot(x,float(cross_with_constant_lambda_df['lambda_0_hat'])+ float(cross_with_constant_lambda_df['lambda_mkt'])*x, 'b--', label='Cross section with constant')\n",
    "plt.plot(x,float(cross_without_constant_lambda_df['lambda_mkt'])*x, 'g--', label='Cross Section without constant')\n",
    "\n",
    "plt.xlabel('betas')\n",
    "plt.ylabel('average returns')\n",
    "plt.title('average returns vs. beta for market')\n",
    "plt.legend()\n",
    "plt.show()"
   ]
  },
  {
   "cell_type": "markdown",
   "id": "1e6b7893",
   "metadata": {},
   "source": [
    "a) i) Patterns that high average returns are associated with high betas: No, in both cases (the whole dataset and sliced dataset), it looks like the returns: whether high or low, stay within a quite narrow range of betas and there is no clear sign that high average returns are associated with high betas."
   ]
  },
  {
   "cell_type": "code",
   "execution_count": 197,
   "id": "2e8969d6",
   "metadata": {},
   "outputs": [
    {
     "name": "stdout",
     "output_type": "stream",
     "text": [
      "The market risk premium (lambda) is statistically significant.\n"
     ]
    }
   ],
   "source": [
    "# ii) \n",
    "\n",
    "# Extract p-values\n",
    "p_val = df_lambda.loc['Mkt-RF','p-value']\n",
    "\n",
    "# Check significance of lambda_mkt\n",
    "if p_val < 0.05:\n",
    "    print('The market risk premium (lambda) is statistically significant.')\n",
    "else:\n",
    "    print('The market risk premium (lambda) is not statistically significant.')"
   ]
  },
  {
   "cell_type": "markdown",
   "id": "cab1cf35",
   "metadata": {},
   "source": [
    "iii)\n",
    "Based on the Ch-squared test calculated in the previous parts we can reject the null hypothesis that alpha are equal to zero. Since the alpha in the time series analysis are not, CAPM doesn't hold.\n"
   ]
  },
  {
   "cell_type": "markdown",
   "id": "ae2b0583",
   "metadata": {},
   "source": [
    "iv) All the changes comes from the difference between the following values:- \n",
    "\n",
    "As per the time series regression-\n",
    "alpha: 0.0818689377822116\n",
    "beta: 1.0803663041234643\n",
    "\n",
    "As per the cross sectional regression with a constant -\n",
    "lambda_0_hat (alpha) :  1.322377454784267\n",
    "lambda_hat (beta) :  -0.4834526202033337\n",
    "\n",
    "The alpha's are higher in cross sectionsl regression as compared to time series one. The most notable change is the lambda_hat (beta) which goes from a positive value in the time-series regression to a negative value in the cross-sectional regression. risk premia (lambda values) are sensitive to model specifications."
   ]
  },
  {
   "cell_type": "markdown",
   "id": "9efb6d55",
   "metadata": {},
   "source": [
    "v)\n",
    "\n",
    "with intercept:\n",
    "lambda_0_hat:  1.322377454784267\n",
    "lambda_hat:  -0.4834526202033337\n",
    "\n",
    "no intercept:\n",
    "lambda_mkt:  0.7259054494926614\n",
    "\n",
    "- Setting the intercept to zero implies that a portfolio should have zero exposures to any other factor beside market risk premium.\n",
    "- Significant Difference in the market premium\n",
    "- When we force the intercept to zero, the market premium estimate is more in line with the conventional theory.\n"
   ]
  },
  {
   "cell_type": "markdown",
   "id": "7d788d85-7b21-4776-9537-4a2fa55307a0",
   "metadata": {},
   "source": [
    "# "
   ]
  },
  {
   "cell_type": "markdown",
   "id": "6da9f34e-5351-4d56-b3b4-60cfe9e59c74",
   "metadata": {},
   "source": [
    "# CAPM Test on 1932-1962 Data"
   ]
  },
  {
   "cell_type": "markdown",
   "id": "ac68b324-2acc-4142-91ec-9469d1569d14",
   "metadata": {},
   "source": [
    "part b) \n",
    "alpha: 0.03481632525242266\n",
    "beta: 1.3683170173893935\n",
    "\n",
    "          lambda  Standard_Error of lambda    t-stat   p-value\n",
    "Mkt-RF  1.084597                  0.324674  3.340571  0.000921\n",
    "\n",
    "Test Stat: 0.25943114771107445\n",
    "P Value: 1\n"
   ]
  },
  {
   "cell_type": "markdown",
   "id": "2206094f-e38f-4eed-b8b7-2159f6c34992",
   "metadata": {},
   "source": [
    "-"
   ]
  },
  {
   "cell_type": "code",
   "execution_count": 198,
   "id": "f7dcbb40-dc13-46f0-939c-ca6be79c6ed5",
   "metadata": {},
   "outputs": [],
   "source": [
    "ptf_25 = portfolio_24.dropna()"
   ]
  },
  {
   "cell_type": "code",
   "execution_count": 199,
   "id": "8f44ca56-1ad8-4c1f-8605-64d298ad5974",
   "metadata": {},
   "outputs": [],
   "source": [
    "ff3n = ff3raw.dropna()"
   ]
  },
  {
   "cell_type": "code",
   "execution_count": 200,
   "id": "bbb21991-f5d2-4ad9-a248-3dc782b35fe4",
   "metadata": {},
   "outputs": [],
   "source": [
    "ptf_25['Date'] = ptf_25['Date'].astype(str)\n",
    "ptf_25['Date'] = ptf_25['Date'].str[:4] + '-' + ptf_25['Date'].str[4:6]\n",
    "ptf_25 = ptf_25.set_index('Date')\n",
    "ptf_25 = ptf_25[(ptf_25.index >= \"1932-01\") & (ptf_25.index <= \"1962-12\")]\n",
    "\n",
    "ff3n = ff3raw.dropna()\n",
    "ff3n['Date'] = ff3n['Date'].astype(str)\n",
    "ff3n['Date'] = ff3n['Date'].str[:4] + '-' + ff3n['Date'].str[4:6]\n",
    "ff3n = ff3n.set_index('Date')\n",
    "ff3n = ff3n[(ff3n.index >= \"1932-01\") & (ff3n.index <= \"1962-12\")]\n",
    "chosen_columns = ['RF', 'Mkt-RF']\n",
    "ff3n = ff3n[chosen_columns]\n",
    "ff3n = pd.DataFrame(ff3n)\n",
    "\n",
    "ptf_25 = ptf_25.sub(ff3n['RF'], axis=0)\n"
   ]
  },
  {
   "cell_type": "code",
   "execution_count": 201,
   "id": "61fd365c-d442-4fc4-b843-7ceed1f53475",
   "metadata": {},
   "outputs": [],
   "source": [
    "# Done with data cleaning"
   ]
  },
  {
   "cell_type": "markdown",
   "id": "383fd700-e4b4-44d3-b360-436f69a66b12",
   "metadata": {},
   "source": [
    "-"
   ]
  },
  {
   "cell_type": "markdown",
   "id": "c3a24077-e7d0-4e31-9540-b19f31d27ca4",
   "metadata": {},
   "source": [
    "a) estimated alpha and beta"
   ]
  },
  {
   "cell_type": "code",
   "execution_count": 202,
   "id": "268f68eb-f033-40bb-9278-eb089da35c87",
   "metadata": {},
   "outputs": [
    {
     "name": "stdout",
     "output_type": "stream",
     "text": [
      "alpha: 0.034204840454833844\n",
      "beta: 1.368671760851617\n"
     ]
    }
   ],
   "source": [
    "# Define columns and corresponding index in results.params and results.bse\n",
    "columns = [\n",
    "    ('alpha', 0), \n",
    "    ('beta mkt', 1), \n",
    "]\n",
    "\n",
    "# Initialize DataFrame with columns named after the first elements of the tuples in the columns list\n",
    "df1n = pd.DataFrame(columns=[col[0] for col in columns])\n",
    "\n",
    "# Iterate over portfolios' columns and fit model for each\n",
    "for name in ptf_25.columns:\n",
    "    # Ensure X (independent variables) is numeric\n",
    "    X = sm.add_constant(ff3n.iloc[:, 1:])\n",
    "    Y = ptf_25[name]\n",
    "\n",
    "    model = sm.OLS(Y, X, missing='drop')\n",
    "    results = model.fit()\n",
    "    \n",
    "    # Assign computed values to the DataFrame\n",
    "    for col, idx in columns:\n",
    "        df1n.loc[name, col] = float(results.params[idx])\n",
    "\n",
    "# Print the resulting DataFrame\n",
    "print(\"alpha:\", df1n['alpha'].mean())\n",
    "print(\"beta:\", df1n['beta mkt'].mean())"
   ]
  },
  {
   "cell_type": "code",
   "execution_count": 203,
   "id": "5561cceb-5580-4872-b2e0-f4f9ad111452",
   "metadata": {},
   "outputs": [],
   "source": [
    "# alpha and beta are correct"
   ]
  },
  {
   "cell_type": "markdown",
   "id": "c7fdcc22-cc01-44dd-b3a1-de55dab76f4c",
   "metadata": {},
   "source": [
    "b) estimated lambda"
   ]
  },
  {
   "cell_type": "code",
   "execution_count": 204,
   "id": "51381b9c-48c0-44f6-97ff-a08e27baa6c7",
   "metadata": {},
   "outputs": [
    {
     "name": "stdout",
     "output_type": "stream",
     "text": [
      "          lambda  Standard_Error of lambda    t-stat   p-value\n",
      "Mkt-RF  1.084597                  0.324674  3.340571  0.000921\n"
     ]
    }
   ],
   "source": [
    "# Estimate lambda (lambda is )\n",
    "\n",
    "# Initializing DataFrame\n",
    "df_lambda = pd.DataFrame(columns=['lambda', 'Standard_Error of lambda', 't-stat', 'p-value'])\n",
    "\n",
    "# Iterate over x in ff3 Dataset\n",
    "for x in ff3n.columns[1:]: # excluding the last column whcih is risk-free rate\n",
    "    x_len = ff3n[x]\n",
    "    lambda_mean = x_len.mean()\n",
    "    se_lambda = x_len.std() / np.sqrt(len(x_len))\n",
    "    t_stat = lambda_mean / se_lambda\n",
    "    \n",
    "    # Getting the p-value\n",
    "    # Assuming a two-tailed test, hence multiplying by 2\n",
    "    p_value = 2 * (1 - stats.t.cdf(np.abs(t_stat), df=len(x_len)-1))\n",
    "    \n",
    "    # Assigning values to the DataFrame in one line\n",
    "    df_lambda.loc[x] = [lambda_mean, se_lambda, t_stat, p_value]\n",
    "\n",
    "# Print the resulting DataFrame\n",
    "print(df_lambda.iloc[:1, ])"
   ]
  },
  {
   "cell_type": "markdown",
   "id": "d4cdf15e-a51a-44f7-a4d4-2da446dd935b",
   "metadata": {},
   "source": [
    "part d) Chi Sq test, T Stat, Critical Value, P Value"
   ]
  },
  {
   "cell_type": "code",
   "execution_count": 205,
   "id": "3c9129b6-9b87-441c-a8bf-79d273dacc77",
   "metadata": {},
   "outputs": [
    {
     "name": "stdout",
     "output_type": "stream",
     "text": [
      "40.99072393153132\n"
     ]
    }
   ],
   "source": [
    "# Define columns and corresponding index in results.params and results.bse\n",
    "columns = [\n",
    "    ('alpha', 0), \n",
    "    ('beta mkt', 1), \n",
    "]\n",
    "\n",
    "# Initialize DataFrame with columns named after the first elements of the tuples in the columns list\n",
    "df1 = pd.DataFrame(columns=[col[0] for col in columns])\n",
    "\n",
    "# Iterate over portfolios' columns and fit model for each\n",
    "for name in ptf_25.columns:\n",
    "    # Ensure X (independent variables) is numeric\n",
    "    X = sm.add_constant(ff3n['Mkt-RF'])\n",
    "    Y = ptf_25[name]\n",
    "\n",
    "    model = sm.OLS(Y, X, missing='drop')\n",
    "    results = model.fit()\n",
    "    \n",
    "    # Assign computed values to the DataFrame\n",
    "    for col, idx in columns:\n",
    "        df1.loc[name, col] = float(results.params[idx])\n",
    "\n",
    "# Number of observations\n",
    "T = len(ff3n['Mkt-RF'])\n",
    "\n",
    "# vector f (lambdas)  1*1\n",
    "f = np.array([df_lambda['lambda']['Mkt-RF']])\n",
    "\n",
    "# covariance matrix f (1x1 for CAPM, which is variance in this case)\n",
    "factor_cov_mat = np.array([[ff3n['Mkt-RF'].var()]])\n",
    "\n",
    "# alpha 25*1\n",
    "alpha_vector = np.array(df1['alpha'])\n",
    "\n",
    "# covariance matrix of residuals\n",
    "residuals_df = pd.DataFrame(index=ff3n.index, columns=df1.index.tolist())\n",
    "for portfolio in residuals_df.columns:\n",
    "    alpha = df1.loc[portfolio, 'alpha']\n",
    "    beta_mkt = df1.loc[portfolio, 'beta mkt']\n",
    "    \n",
    "    expected_return = alpha + beta_mkt *ff3n['Mkt-RF']\n",
    "    residuals_df[portfolio] = ptf_25[portfolio] - expected_return\n",
    "\n",
    "residuals_cov_matrix = residuals_df.cov().values\n",
    "\n",
    "# calculate test statistics\n",
    "test_statistic_2 = T * (1 / (1 + f.T @ np.linalg.inv(factor_cov_mat) @ f)) * \\\n",
    "                    alpha_vector.T @ np.linalg.inv(residuals_cov_matrix) @ alpha_vector\n",
    "\n",
    "print(test_statistic_2)"
   ]
  },
  {
   "cell_type": "code",
   "execution_count": 206,
   "id": "36bf123f-74fd-40fa-91c7-55284dd19cf8",
   "metadata": {},
   "outputs": [],
   "source": [
    "# T Stat is correct (41)"
   ]
  },
  {
   "cell_type": "code",
   "execution_count": 207,
   "id": "f439fc58-b3e9-4ea3-a7e2-3e3d0e91db4a",
   "metadata": {},
   "outputs": [
    {
     "name": "stdout",
     "output_type": "stream",
     "text": [
      "37.65248413348277\n",
      "0.023008910185441267\n",
      "0.21485615473836273\n"
     ]
    }
   ],
   "source": [
    "# the 5% critical value\n",
    "# N is the number of degrees of freedom\n",
    "print(critical_value)\n",
    "\n",
    "# T is the computed test statistic\n",
    "p_value = 1 - stats.chi2.cdf(test_statistic_2, df=N)\n",
    "print(p_value)\n",
    "# the root mean square\n",
    "rms_alpha = np.sqrt(np.mean(df1n['alpha']**2))\n",
    "print(rms_alpha)"
   ]
  },
  {
   "cell_type": "code",
   "execution_count": 208,
   "id": "2f22e3c9-6660-4018-9cf1-67575cc52b15",
   "metadata": {},
   "outputs": [],
   "source": [
    "# P Value is correct"
   ]
  },
  {
   "cell_type": "markdown",
   "id": "5e32b728-6159-447a-aeac-dccb312c6422",
   "metadata": {},
   "source": [
    "# Regressions with/without constants"
   ]
  },
  {
   "cell_type": "code",
   "execution_count": 212,
   "id": "eba092c8-b775-4c67-bd93-9ec10a6e75fd",
   "metadata": {},
   "outputs": [
    {
     "name": "stdout",
     "output_type": "stream",
     "text": [
      "lambda_0_hat:  0.22879326937540093\n",
      "lambda_hat:  0.9424235852037428\n",
      "RMSE: 0.21748758116833894\n",
      "MAE: 0.15099851418591725\n",
      "R^2 1st: 0.5724058914152528\n",
      "R^2 2nd: 0.5724058914152528\n",
      "R^2 3rd: 0.5895096557586428\n"
     ]
    }
   ],
   "source": [
    "# cross section with constant\n",
    "\n",
    "#f1['alpha'] = pd.to_numeric(df1['alpha'], errors='coerce')\n",
    "df1n['beta mkt'] = pd.to_numeric(df1n['beta mkt'], errors='coerce')\n",
    "\n",
    "X = sm.add_constant(df1n[['beta mkt']])\n",
    "Y = ptf_25.mean()\n",
    "model = sm.OLS(Y, X)\n",
    "results = model.fit()\n",
    "results.params\n",
    "\n",
    "# i)Estimates λˆ0 λˆ\n",
    "lambda_0_hatn = results.params[0]\n",
    "lambda_mktn = results.params[1]\n",
    "print('lambda_0_hat: ',lambda_0_hatn)\n",
    "print('lambda_hat: ',lambda_mktn)\n",
    "\n",
    "cross_with_constant_lambda_dfn = pd.DataFrame({'lambda_0_hat':lambda_0_hatn,'lambda_mkt':lambda_mktn},index=[0])\n",
    "\n",
    "#ii) Root mean square and mean absolute pricing errors ˆα, and the R2 of actual vs. predicted mean returns\n",
    "df_part_en = pd.DataFrame()\n",
    "df_part_en['pricing_error_alpha'] = Y - X.dot(results.params)\n",
    "\n",
    "rmse = np.sqrt(((df_part_e['pricing_error_alpha'])**2).mean())\n",
    "mae = df_part_en['pricing_error_alpha'].abs().mean()\n",
    "#sst = ((Y - Y.mean())**2).sum()\n",
    "#ssr = ((df_part_e['pricing_error_alpha'])**2).sum()\n",
    "ss_tot = ((Y - Y.mean())**2).sum()\n",
    "ss_res = ((df_part_en['pricing_error_alpha'])**2).sum()\n",
    "\n",
    "r2_1 = 1 - ss_res/ss_tot\n",
    "#r2_1 = (X.dot(results.params)).var()/Y.var()\n",
    "r2_2 = 1 - (df_part_en['pricing_error_alpha']).var()/Y.var()\n",
    "r2_3 = 1 -((df_part_en['pricing_error_alpha'])**2).mean()/Y.var()\n",
    "\n",
    "print(f\"RMSE: {rmse}\")\n",
    "print(f\"MAE: {mae}\")\n",
    "print(f\"R^2 1st: {r2_1}\")\n",
    "print(f\"R^2 2nd: {r2_2}\")\n",
    "print(f\"R^2 3rd: {r2_3}\")"
   ]
  },
  {
   "cell_type": "code",
   "execution_count": 214,
   "id": "e04979db",
   "metadata": {},
   "outputs": [
    {
     "name": "stdout",
     "output_type": "stream",
     "text": [
      "lambda_mkt:  1.1039146440264098\n",
      "RMSE: 0.21748758116833894\n",
      "MAE: 0.15896590055747972\n",
      "R^2 1st: 0.5367798281585991\n",
      "R^2 2nd: 0.5392331623855865\n",
      "R^2 3rd: 0.5553086350322554\n"
     ]
    }
   ],
   "source": [
    "# cross section without a constant\n",
    "df1n['beta mkt'] = pd.to_numeric(df1n['beta mkt'], errors='coerce')\n",
    "\n",
    "X = df1n[['beta mkt']]  # Exclude the constant term\n",
    "Y = ptf_25.mean()\n",
    "\n",
    "model = sm.OLS(Y, X)\n",
    "results = model.fit()\n",
    "results.params\n",
    "\n",
    "# i) Estimates λˆ0 λˆ\n",
    "lambda_mkt = results.params['beta mkt']\n",
    "print('lambda_mkt: ', lambda_mkt)\n",
    "\n",
    "cross_without_constant_lambda_dfn = pd.DataFrame({'lambda_mkt': lambda_mkt}, index=[0])\n",
    "\n",
    "# ii) Root mean square and mean absolute pricing errors ˆα, and the R2 of actual vs. predicted mean returns\n",
    "df_part_en = pd.DataFrame()\n",
    "df_part_en['pricing_error_alpha'] = Y - X.dot(results.params)\n",
    "\n",
    "rmse = np.sqrt(((df_part_e['pricing_error_alpha'])**2).mean())\n",
    "mae = df_part_e['pricing_error_alpha'].abs().mean()\n",
    "ss_tot = ((Y - Y.mean())**2).sum()\n",
    "ss_res = ((df_part_e['pricing_error_alpha'])**2).sum()\n",
    "\n",
    "r2_1 = 1 - ss_res/ss_tot\n",
    "r2_2 = 1 - (df_part_e['pricing_error_alpha']).var()/Y.var()\n",
    "r2_3 = 1 -((df_part_e['pricing_error_alpha'])**2).mean()/Y.var()\n",
    "\n",
    "print(f\"RMSE: {rmse}\")\n",
    "print(f\"MAE: {mae}\")\n",
    "print(f\"R^2 1st: {r2_1}\")\n",
    "print(f\"R^2 2nd: {r2_2}\")\n",
    "print(f\"R^2 3rd: {r2_3}\")"
   ]
  },
  {
   "cell_type": "code",
   "execution_count": 215,
   "id": "9abcb2e4-d1b8-46b8-8ce6-5d69dc194b5b",
   "metadata": {},
   "outputs": [],
   "source": [
    "# R-Squared are correct"
   ]
  },
  {
   "cell_type": "markdown",
   "id": "ffca4a11-6e9c-4ceb-a2f3-9d56a6afa28a",
   "metadata": {},
   "source": [
    "# Plots"
   ]
  },
  {
   "cell_type": "code",
   "execution_count": 217,
   "id": "fbdbf770-7ba1-4b64-a8b1-6f84c5ebf009",
   "metadata": {},
   "outputs": [
    {
     "data": {
      "image/png": "[encoded data removed]",
      "text/plain": [
       "<Figure size 1000x600 with 1 Axes>"
      ]
     },
     "metadata": {},
     "output_type": "display_data"
    }
   ],
   "source": [
    "plt.figure(figsize=(10,6))\n",
    "\n",
    "# Scatter Plot for Test Assets and Factors\n",
    "plt.scatter(df1n['beta mkt'], ptf_25.mean(), c='b', label='TS')\n",
    "\n",
    "# Plotting the Fitted Lines\n",
    "x = np.linspace(0, 2, 100)\n",
    "plt.ylim(bottom=0)\n",
    "\n",
    "plt.plot(x,float(cross_with_constant_lambda_dfn['lambda_0_hat'])+ float(cross_with_constant_lambda_dfn['lambda_mkt'])*x, 'b--', label='Cross section with constant')\n",
    "plt.plot(x,float(cross_without_constant_lambda_dfn['lambda_mkt'])*x, 'g--', label='Cross Section without constant')\n",
    "\n",
    "plt.xlabel('betas')\n",
    "plt.ylabel('average returns')\n",
    "plt.title('average returns vs. beta for market')\n",
    "plt.legend()\n",
    "plt.show()"
   ]
  },
  {
   "cell_type": "markdown",
   "id": "4b333490",
   "metadata": {},
   "source": [
    "As we can see from the above graph that it fits quite well as compared to the earlier graphs. Here CAMP holds, as we can see there is a positive relation between the average returns and the betas which is consistent with the CAPM."
   ]
  },
  {
   "cell_type": "markdown",
   "id": "a0cd2d3a-9d8f-4846-ae98-88b954a30d56",
   "metadata": {},
   "source": [
    "# "
   ]
  },
  {
   "cell_type": "markdown",
   "id": "fc53229a-13d8-421e-98a1-f0d896fe5aff",
   "metadata": {},
   "source": [
    "# "
   ]
  },
  {
   "cell_type": "markdown",
   "id": "52a5a6f3-a075-40dc-8a84-12bd93cfebde",
   "metadata": {},
   "source": [
    "# Ignore Anything after this"
   ]
  },
  {
   "cell_type": "code",
   "execution_count": null,
   "id": "864428c3-c4a7-49bc-aea7-d4b4443cffd6",
   "metadata": {},
   "outputs": [],
   "source": [
    "columns = [\n",
    "    ('alpha', 0), \n",
    "    ('beta mkt', 1), \n",
    "]\n",
    "\n",
    "# Initialize DataFrame with columns named after the first elements of the tuples in the columns list\n",
    "df1 = pd.DataFrame(columns=[col[0] for col in columns])\n",
    "\n",
    "# Iterate over portfolios' columns and fit model for each\n",
    "for name in portfolio_25.columns:\n",
    "    X = sm.add_constant(ff3)  # Directly exclude last column of ff_factors and add constant\n",
    "    Y = portfolio_25[name]\n",
    "    \n",
    "    model = sm.OLS(Y, X, missing='drop')\n",
    "    results = model.fit()\n",
    "    \n",
    "    # Assign computed values to the DataFrame\n",
    "    for col, idx in columns[:4]:\n",
    "        df1.loc[name, col] = float(results.params[idx])\n",
    "\n",
    "# Print the resulting DataFrame\n",
    "print(df1)"
   ]
  },
  {
   "cell_type": "markdown",
   "id": "9db52430",
   "metadata": {},
   "source": [
    "# Question A) Part 1: Mean Returns"
   ]
  },
  {
   "cell_type": "code",
   "execution_count": null,
   "id": "dffee335",
   "metadata": {
    "scrolled": true
   },
   "outputs": [],
   "source": [
    "# define the mean_returns function and apply it into the portfolio_25 dataset to caculate mean returns\n",
    "\n",
    "def mean_returns(portfolio_25):\n",
    "    \n",
    "    # Define columns and index names\n",
    "    columns = ['Low-BEME', 2, 3, 4, 'High-BEME']\n",
    "    index = ['Small', 2, 3, 4, 'Large']\n",
    "    \n",
    "    # Initialize the DataFrame with predefined column and index names\n",
    "    monthly_mean_returns = pd.DataFrame(columns=columns, index=index)\n",
    "    \n",
    "    for SMB in range(5):\n",
    "        for HML in range(5):\n",
    "            # Calculate the mean of the corresponding slice of the input DataFrame\n",
    "            monthly_mean_returns.iloc[SMB, HML] = portfolio_25.iloc[:, HML + SMB * 5].mean()\n",
    "    \n",
    "    return monthly_mean_returns\n",
    "\n",
    "# Call the function with the 'portfolios' DataFrame\n",
    "mean_returns(portfolio_25)"
   ]
  },
  {
   "cell_type": "markdown",
   "id": "ad5a7ca2",
   "metadata": {},
   "source": [
    "### Question A Part b: Run OLS time-series regressions to find parameter estimates of alpha and beta"
   ]
  },
  {
   "cell_type": "code",
   "execution_count": null,
   "id": "90aa1e41-7681-470a-bf64-5cf09f92b17d",
   "metadata": {},
   "outputs": [],
   "source": [
    "ff3['Mkt-RF'] = ff3['Mkt-RF'].astype(float)\n",
    "ff3['SMB'] = ff3['SMB'].astype(float)\n",
    "ff3['HML'] = ff3['HML'].astype(float)"
   ]
  },
  {
   "cell_type": "code",
   "execution_count": null,
   "id": "ec4a987d",
   "metadata": {},
   "outputs": [],
   "source": [
    "import pandas as pd\n",
    "import statsmodels.api as sm\n",
    "\n",
    "# Define columns and corresponding index in results.params and results.bse\n",
    "columns = [\n",
    "    ('alpha', 0), \n",
    "    ('beta mkt', 1), \n",
    "    ('beta SMB', 2), \n",
    "    ('beta HML', 3), \n",
    "]\n",
    "\n",
    "# Initialize DataFrame with columns named after the first elements of the tuples in the columns list\n",
    "df1 = pd.DataFrame(columns=[col[0] for col in columns])\n",
    "\n",
    "# Iterate over portfolios' columns and fit model for each\n",
    "for name in portfolio_25.columns:\n",
    "    # Ensure X (independent variables) is numeric\n",
    "    X = sm.add_constant(ff3.iloc[:, :-1])\n",
    "    Y = portfolio_25[name]\n",
    "\n",
    "    model = sm.OLS(Y, X, missing='drop')\n",
    "    results = model.fit()\n",
    "    \n",
    "    # Assign computed values to the DataFrame\n",
    "    for col, idx in columns:\n",
    "        df1.loc[name, col] = float(results.params[idx])\n",
    "\n",
    "# Print the resulting DataFrame\n",
    "print(\"alpha:\", df1['alpha'].mean())\n",
    "print(\"beta:\", df1['beta mkt'].mean())"
   ]
  },
  {
   "cell_type": "code",
   "execution_count": null,
   "id": "ea4f39af",
   "metadata": {},
   "outputs": [],
   "source": [
    "# Estimate lambda\n",
    "\n",
    "# Initializing DataFrame\n",
    "df_lambda = pd.DataFrame(columns=['lambda', 'Standard_Error of lambda', 't-stat', 'p-value'])\n",
    "\n",
    "# Iterate over x in ff3 Dataset\n",
    "for x in ff3.columns[:-1]: # excluding the last column whcih is risk-free rate\n",
    "    x_len = ff3[x]\n",
    "    lambda_mean = x_len.mean()\n",
    "    se_lambda = x_len.std() / np.sqrt(len(x_len))\n",
    "    t_stat = lambda_mean / se_lambda\n",
    "    \n",
    "    # Getting the p-value\n",
    "    # Assuming a two-tailed test, hence multiplying by 2\n",
    "    p_value = 2 * (1 - stats.t.cdf(np.abs(t_stat), df=len(x_len)-1))\n",
    "    \n",
    "    # Assigning values to the DataFrame in one line\n",
    "    df_lambda.loc[x] = [lambda_mean, se_lambda, t_stat, p_value]\n",
    "\n",
    "# Print the resulting DataFrame\n",
    "print(df_lambda.iloc[:1, ])"
   ]
  },
  {
   "cell_type": "markdown",
   "id": "6b08eb1b",
   "metadata": {},
   "source": [
    "### Question 1 Part C: Find the standard error of estimated alpha,and beta"
   ]
  },
  {
   "cell_type": "code",
   "execution_count": null,
   "id": "e3aa8797",
   "metadata": {
    "scrolled": true
   },
   "outputs": [],
   "source": [
    "# Define columns and corresponding index in results.params and results.bse\n",
    "columns1 = [\n",
    "    ('Standard_Error alpha', 0), \n",
    "    ('Standard_Error beta mkt', 1), \n",
    "    ('Standard_Error beta SMB', 2), \n",
    "    ('Standard_Error beta HML', 3),\n",
    "]\n",
    "\n",
    "# Initialize DataFrame\n",
    "\n",
    "df_se = pd.DataFrame(columns=[col[0] for col in columns1])\n",
    "\n",
    "# Iterate over portfolios' columns and fit model for each\n",
    "for name in portfolio_25.columns:\n",
    "    X = sm.add_constant(ff3.iloc[:, :-1])  # Directly exclude last column of ff_factors which is the risk free rate column and add constant\n",
    "    Y = portfolio_25[name]\n",
    "    \n",
    "    model = sm.OLS(Y, X, missing='drop')\n",
    "    results = model.fit()\n",
    "    \n",
    "    # Assign computed values to the DataFrame\n",
    "    for col, idx in columns1[:4]:\n",
    "        df_se.loc[name, col] = results.params[idx]\n",
    "\n",
    "# Print the resulting DataFrame\n",
    "print(df_se)"
   ]
  },
  {
   "cell_type": "code",
   "execution_count": null,
   "id": "d95f0570-5031-453c-af7c-5bc07b4a62c5",
   "metadata": {},
   "outputs": [],
   "source": [
    "print(\"mean alpha se:\", df_se['Standard_Error alpha'].mean())\n",
    "print(\"mean beta se:\", df_se['Standard_Error beta mkt'].mean())"
   ]
  },
  {
   "cell_type": "markdown",
   "id": "06edba74",
   "metadata": {},
   "source": [
    "### Problem 1 Part D"
   ]
  },
  {
   "cell_type": "code",
   "execution_count": null,
   "id": "35d01048",
   "metadata": {
    "scrolled": true
   },
   "outputs": [],
   "source": [
    "#（d）\n",
    "# number of months\n",
    "T = len(ff3['HML'])\n",
    "\n",
    "# vector f (lambdas)  3*1\n",
    "f = np.array(df_lambda['lambda'])\n",
    "\n",
    "# covariance matrix f\n",
    "factor_cov_mat = np.cov(ff3.iloc[:, :-1],rowvar=False)\n",
    "\n",
    "# alpha 25*1\n",
    "alpha_vector = np.array(df1['alpha'])\n",
    "\n",
    "# covariance matrix of residuals\n",
    "residuals_df = pd.DataFrame(columns=df1.index.tolist())\n",
    "for portfolio in residuals_df.columns:\n",
    "    alpha = df1.loc[portfolio,'alpha']\n",
    "    beta_mkt = df1.loc[portfolio,'beta mkt'] \n",
    "    beta_SMB = df1.loc[portfolio,'beta SMB']\n",
    "    beta_HML = df1.loc[portfolio,'beta HML']\n",
    "    residuals_df[portfolio] = portfolio_25[portfolio] - alpha - beta_mkt*ff3['Mkt-RF'] - \\\n",
    "                            beta_SMB*ff3['SMB'] - beta_HML*ff3['HML']    \n",
    "residuals_cov_matrix = np.cov(residuals_df,rowvar=False)\n",
    "\n",
    "#calculate test statistics\n",
    "test_statistic = T*(1/(1+f.T.dot(np.linalg.inv(factor_cov_mat)).dot(f)))* \\\n",
    "                    alpha_vector.dot(np.linalg.inv(residuals_cov_matrix)).dot(alpha_vector.T)\n",
    "test_statistic"
   ]
  },
  {
   "cell_type": "code",
   "execution_count": null,
   "id": "77224983",
   "metadata": {},
   "outputs": [],
   "source": [
    "# the 5% critical value\n",
    "# N is the number of degrees of freedom\n",
    "N=3\n",
    "critical_value = stats.chi2.ppf(0.95, df=N)\n",
    "critical_value"
   ]
  },
  {
   "cell_type": "code",
   "execution_count": null,
   "id": "63a74491",
   "metadata": {},
   "outputs": [],
   "source": [
    "# T is the computed test statistic\n",
    "p_value = 1 - stats.chi2.cdf(test_statistic, df=N)\n",
    "p_value"
   ]
  },
  {
   "cell_type": "code",
   "execution_count": null,
   "id": "540a5555",
   "metadata": {},
   "outputs": [],
   "source": [
    "# the root mean square\n",
    "rms_alpha = np.sqrt(np.mean(df1['alpha']**2))\n",
    "rms_alpha"
   ]
  },
  {
   "cell_type": "code",
   "execution_count": null,
   "id": "39efe1f9",
   "metadata": {},
   "outputs": [],
   "source": [
    "average_absolute_alphas = np.mean(np.abs(df1['alpha']))\n",
    "average_absolute_alphas"
   ]
  },
  {
   "cell_type": "markdown",
   "id": "4cb78ab1",
   "metadata": {},
   "source": [
    "### Problem 1 Part E"
   ]
  },
  {
   "cell_type": "code",
   "execution_count": null,
   "id": "3aab3c8f",
   "metadata": {},
   "outputs": [],
   "source": [
    "#cross sectional regression with a constant\n",
    "#f1['alpha'] = pd.to_numeric(df1['alpha'], errors='coerce')\n",
    "df1['beta mkt'] = pd.to_numeric(df1['beta mkt'], errors='coerce')\n",
    "df1['beta SMB'] = pd.to_numeric(df1['beta SMB'], errors='coerce')\n",
    "df1['beta HML'] = pd.to_numeric(df1['beta HML'], errors='coerce')\n",
    "\n",
    "X = sm.add_constant(df1[['beta mkt','beta SMB','beta HML']])\n",
    "Y = portfolio_25.mean()\n",
    "model = sm.OLS(Y, X)\n",
    "results = model.fit()\n",
    "results.params"
   ]
  },
  {
   "cell_type": "code",
   "execution_count": null,
   "id": "670f00b4",
   "metadata": {},
   "outputs": [],
   "source": [
    "# i)Estimates λˆ0 λˆ\n",
    "lambda_0_hat = results.params[0]\n",
    "lambda_mkt = results.params[1]\n",
    "lambda_SMB = results.params[2]\n",
    "lambda_HML = results.params[3]\n",
    "print('lambda_0_hat: ',lambda_0_hat)\n",
    "print('lambda_hat: ',lambda_mkt,lambda_SMB,lambda_HML)"
   ]
  },
  {
   "cell_type": "code",
   "execution_count": null,
   "id": "3892b24d",
   "metadata": {},
   "outputs": [],
   "source": [
    "cross_with_constant_lambda_df = pd.DataFrame({'lambda_0_hat':lambda_0_hat,'lambda_mkt':lambda_mkt,'lambda_SMB':lambda_SMB,'lambda_HML':lambda_HML},index=[0])"
   ]
  },
  {
   "cell_type": "code",
   "execution_count": null,
   "id": "c8eb08cb",
   "metadata": {},
   "outputs": [],
   "source": [
    "#ii) Root mean square and mean absolute pricing errors ˆα, and the R2 of actual vs. predicted mean returns\n",
    "df_part_e = pd.DataFrame()\n",
    "df_part_e['pricing_error_alpha'] = Y - X.dot(results.params)\n",
    "\n",
    "rmse = np.sqrt(((df_part_e['pricing_error_alpha'])**2).mean())\n",
    "mae = df_part_e['pricing_error_alpha'].abs().mean()\n",
    "#sst = ((Y - Y.mean())**2).sum()\n",
    "#ssr = ((df_part_e['pricing_error_alpha'])**2).sum()\n",
    "ss_tot = ((Y - Y.mean())**2).sum()\n",
    "ss_res = ((df_part_e['pricing_error_alpha'])**2).sum()\n",
    "\n",
    "r2_1 = 1 - ss_res/ss_tot\n",
    "#r2_1 = (X.dot(results.params)).var()/Y.var()\n",
    "r2_2 = 1 - (df_part_e['pricing_error_alpha']).var()/Y.var()\n",
    "r2_3 = 1 -((df_part_e['pricing_error_alpha'])**2).mean()/Y.var()\n",
    "\n",
    "print(f\"RMSE: {rmse}\")\n",
    "print(f\"MAE: {mae}\")\n",
    "print(f\"R^2 1st: {r2_1}\")\n",
    "print(f\"R^2 2nd: {r2_2}\")\n",
    "print(f\"R^2 3rd: {r2_3}\")"
   ]
  },
  {
   "cell_type": "code",
   "execution_count": null,
   "id": "989f59a5",
   "metadata": {
    "scrolled": true
   },
   "outputs": [],
   "source": [
    "##  Run it with no constant\n",
    "df1['beta mkt'] = pd.to_numeric(df1['beta mkt'], errors='coerce')\n",
    "df1['beta SMB'] = pd.to_numeric(df1['beta SMB'], errors='coerce')\n",
    "df1['beta HML'] = pd.to_numeric(df1['beta HML'], errors='coerce')\n",
    "\n",
    "columns = [\n",
    "    ('alpha', 0), \n",
    "    ('beta mkt', 1), \n",
    "    ('beta SMB', 2), \n",
    "    ('beta HML', 3), \n",
    "]\n",
    "# Iterate over portfolios' columns and fit model for each\n",
    "\n",
    "X = sm.add_constant(ff3.iloc[:, :-1])  # Directly exclude last column of ff_factors and add constant\n",
    "#Y = ff3['RF']R^2 1st: 0.6165136172478135\n",
    "\n",
    "\n",
    "model = sm.OLS(Y, X, missing='drop')\n",
    "results = model.fit()\n",
    "\n",
    "# Assign computed values to the DataFrame\n",
    "for col, idx in columns[:4]:\n",
    "    df1.loc['RF', col] = float(results.params[idx])\n",
    "\n",
    "\n",
    "X = df1[['beta mkt','beta SMB','beta HML']]\n",
    "Y = portfolio_25.mean()\n",
    "Y = pd.concat([Y, pd.Series([ff3['RF'].mean()], index=['RF'])])\n",
    "\n",
    "model = sm.OLS(Y, X)\n",
    "results = model.fit()\n",
    "results.params\n",
    "\n"
   ]
  },
  {
   "cell_type": "code",
   "execution_count": null,
   "id": "97df9d0e",
   "metadata": {},
   "outputs": [],
   "source": [
    "# i) Collect estimates ˆα, λ\n",
    "lambda_mkt = results.params[0]\n",
    "lambda_SMB = results.params[1]\n",
    "lambda_HML = results.params[2]\n",
    "print('lambda_hat: ',lambda_mkt,lambda_SMB,lambda_HML)"
   ]
  },
  {
   "cell_type": "code",
   "execution_count": null,
   "id": "9c3f2b2e",
   "metadata": {},
   "outputs": [],
   "source": [
    "cross_without_constant_lambda_df = pd.DataFrame({'lambda_mkt':lambda_mkt,'lambda_SMB':lambda_SMB,'lambda_HML':lambda_HML},index=[0])"
   ]
  },
  {
   "cell_type": "code",
   "execution_count": null,
   "id": "c7f23c42",
   "metadata": {
    "scrolled": true
   },
   "outputs": [],
   "source": [
    "df_part_e2 = pd.DataFrame()\n",
    "df_part_e2['predicted_ret'] = results.predict(X)\n",
    "df_part_e2['pricing_error_alpha'] = Y - df_part_e2['predicted_ret']\n",
    "#df_part_e2['pricing_error_alpha']"
   ]
  },
  {
   "cell_type": "code",
   "execution_count": null,
   "id": "e8f7aaf7",
   "metadata": {},
   "outputs": [],
   "source": [
    "#ii) Compute standard errors of λˆ and ˆα with traditional iid formulas.\n",
    "se_lambda_mkt = results.bse[0]\n",
    "se_lambda_SMB = results.bse[1]\n",
    "se_lambda_HML = results.bse[2]\n",
    "print('lambda_hat: ',se_lambda_mkt,se_lambda_SMB,se_lambda_HML)"
   ]
  },
  {
   "cell_type": "code",
   "execution_count": null,
   "id": "905545d0",
   "metadata": {
    "scrolled": true
   },
   "outputs": [],
   "source": [
    "residuals = results.resid\n",
    "se_alpha = np.sqrt(np.sum(residuals**2)/results.df_resid)\n",
    "se_alpha"
   ]
  },
  {
   "cell_type": "code",
   "execution_count": null,
   "id": "d971b7b1",
   "metadata": {},
   "outputs": [],
   "source": [
    "#iii) Compute the asymptotic Chi-squared test with statistic, 5% critical value, p-value, for iid formulas\n",
    "#alpha hat 26*1\n",
    "alpha_hat = np.array(df_part_e2['pricing_error_alpha'])\n",
    "T = len(ff3['HML'])\n",
    "# beta vector 26*3\n",
    "beta_vector = np.array(df1[['beta mkt','beta SMB','beta HML']])\n",
    "# lambda vector 3*1\n",
    "lambda_vector = np.array([[lambda_mkt],[lambda_SMB],[lambda_HML]])\n",
    "lambda_vector\n",
    "# covariance matrix f 3*3\n",
    "factor_cov_mat = np.cov(ff3.iloc[:, :-1],rowvar=False)\n",
    "# residuals_cov_matrix ()\n",
    "portfolio_26 = portfolio_25\n",
    "portfolio_26['RF'] = ff3['RF']\n",
    "residuals_df_1e = portfolio_26.sub(np.array(beta_vector@lambda_vector).T,axis=1)\n",
    "residuals_cov_matrix_1e = residuals_df_1e.cov()\n"
   ]
  },
  {
   "cell_type": "code",
   "execution_count": null,
   "id": "55043890",
   "metadata": {
    "scrolled": true
   },
   "outputs": [],
   "source": [
    "# term after T\n",
    "expression_with_beta = np.identity(len(beta_vector)) - beta_vector@\\\n",
    "                        np.linalg.inv(beta_vector.T@beta_vector)@(beta_vector.T)\n",
    "\n",
    "\n",
    "# cov(alpha_hat)\n",
    "cov_alpha_hat = (1/T)*(expression_with_beta)@residuals_cov_matrix_1e@(expression_with_beta)*\\\n",
    "                (1+lambda_vector.T@np.linalg.inv(factor_cov_mat)@lambda_vector).item()\n",
    "cov_alpha_hat\n",
    "\n",
    "# test_stat\n",
    "test_statistic_1e = alpha_hat.T@np.linalg.inv(cov_alpha_hat)@alpha_hat\n",
    "test_statistic_1e"
   ]
  },
  {
   "cell_type": "code",
   "execution_count": null,
   "id": "4f84eb7c",
   "metadata": {},
   "outputs": [],
   "source": [
    "df = 3\n",
    "critical_value = stats.chi2.ppf(1 - 0.05, df)\n",
    "p_value = stats.chi2.sf(test_statistic_1e, df)\n",
    "print(\"Test Statistic:\", test_statistic_1e)\n",
    "print(\"Critical Value at 5% Significance Level:\", critical_value)\n",
    "print(\"p-value:\", p_value)"
   ]
  },
  {
   "cell_type": "code",
   "execution_count": null,
   "id": "c332ea55",
   "metadata": {},
   "outputs": [],
   "source": [
    "#iv)\n",
    "#Root mean square and mean absolute pricing errors ˆα, and the R2 of actual vs. predicted mean returns\n",
    "df_part_1e4 = pd.DataFrame()\n",
    "df_part_1e4['pricing_error_alpha'] = Y - X.dot(results.params)\n",
    "\n",
    "rmse = np.sqrt(((df_part_e['pricing_error_alpha'])**2).mean())\n",
    "mae = df_part_e['pricing_error_alpha'].abs().mean()\n",
    "# sst = ((Y - Y.mean())**2).sum()\n",
    "# ssr = ((df_part_e['pricing_error_alpha'])**2).sum()\n",
    "\n",
    "\n",
    "ss_tot = ((Y - Y.mean())**2).sum()\n",
    "ss_res = ((df_part_1e4['pricing_error_alpha'])**2).sum()\n",
    "\n",
    "r2_1 = 1 - ss_res/ss_tot\n",
    "\n",
    "#r2_1 = (X.dot(results.params)).var()/Y.var()\n",
    "r2_2 = 1 - (df_part_1e4['pricing_error_alpha']).var()/Y.var()\n",
    "r2_3 = 1 -((df_part_1e4['pricing_error_alpha'])**2).mean()/Y.var()\n",
    "\n",
    "print(f\"RMSE: {rmse}\")\n",
    "print(f\"MAE: {mae}\")\n",
    "print(f\"R^2 1st: {r2_1}\")\n",
    "print(f\"R^2 2nd: {r2_2}\")\n",
    "print(f\"R^2 3rd: {r2_3}\")"
   ]
  },
  {
   "cell_type": "markdown",
   "id": "4ea8e1fb",
   "metadata": {},
   "source": [
    "### Problem 1 (f)"
   ]
  },
  {
   "cell_type": "code",
   "execution_count": null,
   "id": "0df228b1",
   "metadata": {},
   "outputs": [],
   "source": [
    "import matplotlib.pyplot as plt\n",
    "# method 1 Time Series\n",
    "# method 2 Cross Sectional with Constant\n",
    "# method 3 Cross Sectional without Constant"
   ]
  },
  {
   "cell_type": "code",
   "execution_count": null,
   "id": "b838fecd",
   "metadata": {},
   "outputs": [],
   "source": [
    "plt.figure(figsize=(10,6))\n",
    "\n",
    "# Scatter Plot for Test Assets and Factors\n",
    "plt.scatter(df1['beta mkt'], portfolio_26.mean(), c='b', label='TS')\n",
    "\n",
    "# Plotting the Fitted Lines\n",
    "x = np.linspace(0, 2, 100)\n",
    "plt.ylim(bottom=0)\n",
    "\n",
    "plt.plot(x,float(cross_with_constant_lambda_df['lambda_0_hat'])+float(cross_with_constant_lambda_df['lambda_mkt'])*x, 'b--', label='Cross section with constant')\n",
    "plt.plot(x,float(cross_without_constant_lambda_df['lambda_mkt'])*x, 'g--', label='Cross Section without constant')\n",
    "\n",
    "\n",
    "plt.xlabel('betas')\n",
    "plt.ylabel('average returns')\n",
    "plt.title('average returns vs. beta for market')\n",
    "plt.legend()\n",
    "plt.show()"
   ]
  },
  {
   "cell_type": "markdown",
   "id": "042cb345-26d7-4858-a93f-7abc7ddb432f",
   "metadata": {},
   "source": [
    "# f) a) i)"
   ]
  },
  {
   "cell_type": "markdown",
   "id": "b4e52859-9b5d-4d60-b139-c1c5db153935",
   "metadata": {},
   "source": [
    "Patterns that high average returns are associated with high betas: No, in both cases, it looks like the returns, wether high or low, stay within a quite narrow range of betas, between 0.9 and 1.1, and there is no clear sign that high average returns are associated with high betas"
   ]
  },
  {
   "cell_type": "markdown",
   "id": "8b57305b-32fa-4bb6-9e33-7868b6dea878",
   "metadata": {},
   "source": [
    "# f) a) ii)"
   ]
  },
  {
   "cell_type": "code",
   "execution_count": null,
   "id": "e5856252-4bd6-448f-94d8-e91d499630a6",
   "metadata": {},
   "outputs": [],
   "source": [
    "# Extract p-values\n",
    "p_values = results.pvalues\n",
    "\n",
    "# Check significance of lambda_mkt\n",
    "if p_values['beta mkt'] < 0.05:\n",
    "    print('The market premium lambda is statistically significant.')\n",
    "else:\n",
    "    print('The market premium lambda is not statistically significant.')"
   ]
  },
  {
   "cell_type": "markdown",
   "id": "c94adf7d-7ecc-424d-910d-c4e771d6f71b",
   "metadata": {},
   "source": [
    "# f) a) iii)"
   ]
  },
  {
   "cell_type": "markdown",
   "id": "24975575-eb89-4735-888e-ee75b5af8d7c",
   "metadata": {},
   "source": [
    "- p-value: The p-value is 0.0, which is less than the significance level of 0.05.\n",
    "- Critical Value at 5% Significance Level: 7.81 is the chi-squared value for which only 5% of the distribution lies to its right when there are 3 degrees of freedom.\n",
    "- The average of the absolute values of the alpha estimates is 0.0943. A value significantly different from 0 suggests that there are systematic patterns in returns that the market factor alone (as per CAPM) doesn't capture.\n",
    "- Given the results, The chi-squared test indicates that the CAPM is rejected, and the non-zero average of absolute alphas suggests that the CAPM is rejected\n"
   ]
  },
  {
   "cell_type": "markdown",
   "id": "a7d9f029-377f-424c-adb1-024dc4c18662",
   "metadata": {},
   "source": [
    "# f) a) iv)"
   ]
  },
  {
   "cell_type": "markdown",
   "id": "d4b7aa18-ac9c-4734-8140-a65a4d2d074a",
   "metadata": {},
   "source": [
    "How does the estimate of ˆλ and the ˆα in the cross sectional regression with a free constant differ from that of the time-series regression? Track down where this difference\n",
    "comes from there is an important lesson here. (Hint: look at the expected return vs beta graphs)\n",
    "\n",
    "The addition of a constant in the cross-sectional regression changes the estimates of the lambdas. The most notable change is the λmkt which goes from a positive value in the time-series regression to a negative value in the cross-sectional regression. risk premia (lambda values) are sensitive to model specifications (diff between add constant and without constant)\n",
    "\n",
    "\n",
    "                                               "
   ]
  },
  {
   "cell_type": "markdown",
   "id": "79f31fae-56e4-454a-83c6-0d2a318dee11",
   "metadata": {},
   "source": [
    "# f) a) v)"
   ]
  },
  {
   "cell_type": "markdown",
   "id": "1cc153a0-cb03-4c82-9c33-4a3aa8177a27",
   "metadata": {},
   "source": [
    "How does the estimate of ˆλ when we force the intercept to zero and price the factors compare?\n",
    "\n",
    "with intercept:\n",
    "const       1.363281\n",
    "beta mkt   -0.689089\n",
    "beta SMB    0.071590\n",
    "beta HML    0.317528\n",
    "\n",
    "no intercept:\n",
    "beta mkt    0.626051\n",
    "beta SMB    0.088736\n",
    "beta HML    0.347640\n",
    "\n",
    "\" \n",
    "- Setting the intercept to zero implies that a portfolio with zero exposures to all the factors should have an expected return of zero.\n",
    "- Significant Difference in the market premium\n",
    "- When we force the intercept to zero, the market premium estimate is more in line with the conventional theory."
   ]
  },
  {
   "cell_type": "markdown",
   "id": "ab8ce2b3-37fd-4e07-a19c-cc8c19b4b8b4",
   "metadata": {},
   "source": [
    "# f) b) Reproduce with data from 1932 to 1962"
   ]
  },
  {
   "cell_type": "code",
   "execution_count": null,
   "id": "644b8313-fc28-434f-86d7-38be1b5b71d6",
   "metadata": {},
   "outputs": [],
   "source": [
    "ptf62 = pd.read_csv(file_path)\n",
    "ptf62 = ptf62.dropna()\n",
    "ptf62['Date'] = ptf62['Date'].astype(int)\n",
    "ptf62 = ptf62[(ptf62['Date'] >= 193201) & (ptf62['Date'] <= 196212)]\n",
    "ptf62['Date'] = ptf62['Date'].astype(str)\n",
    "ptf62['Date'] = ptf62['Date'].str[:4] + '-' + ptf62['Date'].str[4:6]\n",
    "ptf62 = ptf62.set_index('Date')"
   ]
  },
  {
   "cell_type": "code",
   "execution_count": null,
   "id": "72fe62a5-0d3a-4454-8bda-5b6119fad792",
   "metadata": {},
   "outputs": [],
   "source": [
    "ffnew = pd.read_csv(files_2)\n",
    "ffnew = ffnew.dropna()\n",
    "ffnew['Date'] = ffnew['Date'].astype(int)\n",
    "ffnew = ffnew[(ffnew['Date'] >= 193201) & (ffnew['Date'] <= 196212)]\n",
    "ffnew['Date'] = ffnew['Date'].astype(str)\n",
    "ffnew['Date'] = ffnew['Date'].str[:4] + '-' + ffnew['Date'].str[4:6]\n",
    "ffnew = ffnew.set_index('Date')"
   ]
  },
  {
   "cell_type": "code",
   "execution_count": null,
   "id": "1099e259-d73c-4d49-9745-bc0a4b6a3b5c",
   "metadata": {},
   "outputs": [],
   "source": [
    "ptf62 = ptf62.loc[~ptf62.index.duplicated(keep='first')]\n",
    "# Convert portfolio_25 to numeric\n",
    "ptf62 = ptf62.apply(pd.to_numeric, errors='coerce')\n",
    "# Convert the RF column from ff3 to numeric\n",
    "ffnew['RF'] = pd.to_numeric(ffnew['RF'], errors='coerce')\n",
    "ptf62 = ptf62.sub(ffnew['RF'], axis=0)"
   ]
  },
  {
   "cell_type": "code",
   "execution_count": null,
   "id": "78a01bfc-aca1-4e33-acab-d2d0cb37fb89",
   "metadata": {},
   "outputs": [],
   "source": [
    "# done with data cleaning"
   ]
  },
  {
   "cell_type": "code",
   "execution_count": null,
   "id": "b8fed13c-c40e-42ca-92e8-655a5b387732",
   "metadata": {},
   "outputs": [],
   "source": [
    "# Define the mean_returns function and apply it into the ptf62 dataset to calculate mean returns\n",
    "def mean_returns(ptf62):\n",
    "    \n",
    "    # Define columns and index names\n",
    "    columns = ['Low-BEME', 2, 3, 4, 'High-BEME']\n",
    "    index = ['Small', 2, 3, 4, 'Large']\n",
    "    \n",
    "    # Initialize the DataFrame with predefined column and index names\n",
    "    monthly_mean_returns = pd.DataFrame(columns=columns, index=index)\n",
    "    \n",
    "    for SMB in range(5):\n",
    "        for HML in range(5):\n",
    "            # Calculate the mean of the corresponding slice of the input DataFrame\n",
    "            monthly_mean_returns.iloc[SMB, HML] = ptf62.iloc[:, HML + SMB * 5].mean()\n",
    "    \n",
    "    return monthly_mean_returns\n",
    "\n",
    "# Call the function with the 'ptf62' DataFrame\n",
    "mean_returns(ptf62)\n"
   ]
  },
  {
   "cell_type": "markdown",
   "id": "32d2ef01-f271-4cbb-9cd4-c83157d19e82",
   "metadata": {},
   "source": [
    "OLS timeseries regressions to find parameter estimates of alpha and beta"
   ]
  },
  {
   "cell_type": "code",
   "execution_count": null,
   "id": "d7092337-a2f9-4462-bade-55b75861f3ea",
   "metadata": {},
   "outputs": [],
   "source": [
    "ffnew['Mkt-RF'] = ffnew['Mkt-RF'].astype(float)\n",
    "ffnew['SMB'] = ffnew['SMB'].astype(float)\n",
    "ffnew['HML'] = ffnew['HML'].astype(float)\n",
    "\n",
    "# Define columns and corresponding index in results.params and results.bse\n",
    "columns = [('alpha', 0), ('beta mkt', 1), ('beta SMB', 2), ('beta HML', 3), ]\n",
    "\n",
    "# Initialize DataFrame with columns named after the first elements of the tuples in the columns list\n",
    "n_df1 = pd.DataFrame(columns=[col[0] for col in columns])\n",
    "\n",
    "# Iterate over portfolios' columns and fit model for each\n",
    "for name in ptf62.columns:\n",
    "    X = sm.add_constant(ffnew.iloc[:, :-1])  # Directly exclude last column of ff_factors and add constant\n",
    "    Y = ptf62[name]\n",
    "    \n",
    "    model = sm.OLS(Y, X, missing='drop')\n",
    "    results = model.fit()\n",
    "    \n",
    "    # Assign computed values to the DataFrame\n",
    "    for col, idx in columns[:4]:\n",
    "        n_df1.loc[name, col] = float(results.params[idx])\n",
    "\n",
    "# Print the resulting DataFrame\n",
    "# print(n_df1)"
   ]
  },
  {
   "cell_type": "code",
   "execution_count": null,
   "id": "23a7424f-4949-40d2-a2f5-fb87d7801449",
   "metadata": {},
   "outputs": [],
   "source": [
    "# Estimate lambda\n",
    "\n",
    "# Initializing DataFrame\n",
    "n_df_lambda = pd.DataFrame(columns=['lambda', 'Standard_Error of lambda', 't-stat', 'p-value'])\n",
    "\n",
    "# Iterate over x in ffnew Dataset\n",
    "for x in ffnew.columns[:-1]:  # excluding the last column which is risk-free rate\n",
    "    x_len = ffnew[x]\n",
    "    lambda_mean = x_len.mean()\n",
    "    se_lambda = x_len.std() / np.sqrt(len(x_len))\n",
    "    t_stat = lambda_mean / se_lambda\n",
    "    \n",
    "    # Getting the p-value\n",
    "    # Assuming a two-tailed test, hence multiplying by 2\n",
    "    p_value = 2 * (1 - stats.t.cdf(np.abs(t_stat), df=len(x_len)-1))\n",
    "    \n",
    "    # Assigning values to the DataFrame in one line\n",
    "    n_df_lambda.loc[x] = [lambda_mean, se_lambda, t_stat, p_value]\n",
    "\n",
    "# Print the resulting DataFrame\n",
    "print(n_df_lambda)"
   ]
  },
  {
   "cell_type": "markdown",
   "id": "de73fd00-30cd-4f3b-ac7d-4ebd258c2d58",
   "metadata": {},
   "source": [
    "# c) standard error of alpha and beta"
   ]
  },
  {
   "cell_type": "code",
   "execution_count": null,
   "id": "8cd922a1-4a41-4c34-80a0-4994c0745f45",
   "metadata": {},
   "outputs": [],
   "source": [
    "# Define columns and corresponding index in results.params and results.bse\n",
    "columns1 = [('Standard_Error alpha', 0), ('Standard_Error beta mkt', 1), ('Standard_Error beta SMB', 2), ('Standard_Error beta HML', 3),]\n",
    "\n",
    "# Initialize DataFrame\n",
    "n_df_se = pd.DataFrame(columns=[col[0] for col in columns1])\n",
    "\n",
    "# Iterate over portfolios' columns and fit model for each\n",
    "for name in ptf62.columns:\n",
    "    X = sm.add_constant(ffnew.iloc[:, :-1])  # Exclude last column (risk-free rate) and add constant\n",
    "    Y = ptf62[name]    \n",
    "    model = sm.OLS(Y, X, missing='drop')\n",
    "    results = model.fit()    \n",
    "    # Assign computed values to the DataFrame\n",
    "    for col, idx in columns1[:4]:\n",
    "        n_df_se.loc[name, col] = results.bse[idx]\n",
    "\n",
    "# Print the resulting DataFrame\n",
    "# print(n_df_se)"
   ]
  },
  {
   "cell_type": "markdown",
   "id": "6c950c71-c753-4683-8bdd-2307174be73e",
   "metadata": {},
   "source": [
    "# d) "
   ]
  },
  {
   "cell_type": "code",
   "execution_count": null,
   "id": "e713cb1d-7bac-49b2-8bec-849eec05ddc2",
   "metadata": {},
   "outputs": [],
   "source": [
    "# Number of months\n",
    "T = len(ffnew['HML'])\n",
    "\n",
    "# Vector f (lambdas)  3*1\n",
    "f = np.array(n_df_lambda['lambda'])\n",
    "\n",
    "# Covariance matrix f\n",
    "factor_cov_mat = np.cov(ffnew.iloc[:, :-1], rowvar=False)\n",
    "\n",
    "# Alpha 25*1\n",
    "alpha_vector = np.array(n_df1['alpha'])\n",
    "\n",
    "# Covariance matrix of residuals\n",
    "residuals_df_new = pd.DataFrame(columns=n_df1.index.tolist())\n",
    "for portfolio in residuals_df_new.columns:\n",
    "    alpha = n_df1.loc[portfolio,'alpha']\n",
    "    beta_mkt = n_df1.loc[portfolio,'beta mkt'] \n",
    "    beta_SMB = n_df1.loc[portfolio,'beta SMB']\n",
    "    beta_HML = n_df1.loc[portfolio,'beta HML']\n",
    "    residuals_df_new[portfolio] = ptf62[portfolio] - alpha - beta_mkt*ffnew['Mkt-RF'] - \\\n",
    "                            beta_SMB*ffnew['SMB'] - beta_HML*ffnew['HML']    \n",
    "residuals_cov_matrix = np.cov(residuals_df_new, rowvar=False)"
   ]
  },
  {
   "cell_type": "code",
   "execution_count": null,
   "id": "3949d7a0-ce79-4f85-9ab3-2b6703e40971",
   "metadata": {},
   "outputs": [],
   "source": [
    "# Calculate test statistics\n",
    "test_statistic_new = T * (1 / (1 + f.T.dot(np.linalg.inv(factor_cov_mat)).dot(f))) * \\\n",
    "                    alpha_vector.dot(np.linalg.inv(residuals_cov_matrix)).dot(alpha_vector.T)\n",
    "print(\"Test Statistic:\", test_statistic_new)\n"
   ]
  },
  {
   "cell_type": "code",
   "execution_count": null,
   "id": "49193b17-427d-4892-960f-c63e7e85c314",
   "metadata": {},
   "outputs": [],
   "source": [
    "p_value_new = 1 - stats.chi2.cdf(test_statistic_new, df=N)\n",
    "print(\"P-Value:\", p_value_new)"
   ]
  },
  {
   "cell_type": "code",
   "execution_count": null,
   "id": "5130747c-6502-4537-8fc9-3ceaeb1c78e2",
   "metadata": {},
   "outputs": [],
   "source": [
    "rms_alpha_new = np.sqrt(np.mean(n_df1['alpha']**2))\n",
    "print(\"RMS Alpha:\", rms_alpha_new)"
   ]
  },
  {
   "cell_type": "code",
   "execution_count": null,
   "id": "0f2a7813-3678-42d2-a448-a0ce1f5a0d47",
   "metadata": {},
   "outputs": [],
   "source": [
    "average_absolute_alphas_new = np.mean(np.abs(n_df1['alpha']))\n",
    "print(\"Average Absolute Alphas:\", average_absolute_alphas_new)"
   ]
  },
  {
   "cell_type": "markdown",
   "id": "0685a1f6-3177-4b07-9e35-48fbee080f6a",
   "metadata": {},
   "source": [
    "# e) Cross-sectional regression with a constant"
   ]
  },
  {
   "cell_type": "code",
   "execution_count": null,
   "id": "055f82ae-5e68-49c7-abd6-33bce20251f1",
   "metadata": {},
   "outputs": [],
   "source": [
    "n_df1['beta mkt'] = pd.to_numeric(n_df1['beta mkt'], errors='coerce')\n",
    "n_df1['beta SMB'] = pd.to_numeric(n_df1['beta SMB'], errors='coerce')\n",
    "n_df1['beta HML'] = pd.to_numeric(n_df1['beta HML'], errors='coerce')\n",
    "\n",
    "X = sm.add_constant(n_df1[['beta mkt', 'beta SMB', 'beta HML']])\n",
    "Y = ptf62.mean()\n",
    "model = sm.OLS(Y, X)\n",
    "results = model.fit()\n",
    "results.params"
   ]
  },
  {
   "cell_type": "code",
   "execution_count": null,
   "id": "0064ff3f-47ff-4e1b-ad52-35300a80a969",
   "metadata": {},
   "outputs": [],
   "source": [
    "# i) Estimates λˆ0 λˆ\n",
    "lambda_0_hat_new = results.params[0]\n",
    "lambda_mkt_new = results.params[1]\n",
    "lambda_SMB_new = results.params[2]\n",
    "lambda_HML_new = results.params[3]\n",
    "print('lambda_0_hat:', lambda_0_hat_new)\n",
    "print('lambda_hat:', lambda_mkt_new, lambda_SMB_new, lambda_HML_new)"
   ]
  },
  {
   "cell_type": "code",
   "execution_count": null,
   "id": "97647d05-5b4f-48c8-af52-445ae733c263",
   "metadata": {},
   "outputs": [],
   "source": [
    "cross_with_constant_lambda_df = pd.DataFrame({\n",
    "    'lambda_0_hat': lambda_0_hat_new,\n",
    "    'lambda_mkt': lambda_mkt_new,\n",
    "    'lambda_SMB': lambda_SMB_new,\n",
    "    'lambda_HML': lambda_HML_new\n",
    "}, index=[0])\n",
    "\n",
    "# ii) Root mean square and mean absolute pricing errors ˆα, and the R2 of actual vs. predicted mean returns\n",
    "df_part_e = pd.DataFrame()\n",
    "df_part_e['pricing_error_alpha'] = Y - X.dot(results.params)\n",
    "\n",
    "rmse_new = np.sqrt((df_part_e['pricing_error_alpha']**2).mean())\n",
    "mae_new = df_part_e['pricing_error_alpha'].abs().mean()\n",
    "sst_new = ((Y - Y.mean())**2).sum()\n",
    "ssr_new = (df_part_e['pricing_error_alpha']**2).sum()\n",
    "\n",
    "r2_1_new = (X.dot(results.params)).var() / Y.var()\n",
    "r2_2_new = 1 - df_part_e['pricing_error_alpha'].var() / Y.var()\n",
    "r2_3_new = 1 - (df_part_e['pricing_error_alpha']**2).mean() / Y.var()\n",
    "\n",
    "print(f\"RMSE: {rmse_new}\")\n",
    "print(f\"MAE: {mae_new}\")\n",
    "print(f\"R^2 1st: {r2_1_new}\")\n",
    "print(f\"R^2 2nd: {r2_2_new}\")\n",
    "print(f\"R^2 3rd: {r2_3_new}\")"
   ]
  },
  {
   "cell_type": "markdown",
   "id": "05ce4ed9-4ec8-46ed-8c29-eb6cb224cff0",
   "metadata": {},
   "source": [
    "# The two R Squared are same, but should be different"
   ]
  },
  {
   "cell_type": "code",
   "execution_count": null,
   "id": "ffeb7860-7627-4e54-b4ea-513df9bfcbaf",
   "metadata": {},
   "outputs": [],
   "source": [
    "# Without constant\n",
    "n_df1['beta mkt'] = pd.to_numeric(n_df1['beta mkt'], errors='coerce')\n",
    "n_df1['beta SMB'] = pd.to_numeric(n_df1['beta SMB'], errors='coerce')\n",
    "n_df1['beta HML'] = pd.to_numeric(n_df1['beta HML'], errors='coerce')\n",
    "\n",
    "columns = [\n",
    "    ('alpha', 0), \n",
    "    ('beta mkt', 1), \n",
    "    ('beta SMB', 2), \n",
    "    ('beta HML', 3), \n",
    "]\n",
    "\n",
    "X = sm.add_constant(ffnew.iloc[:, :-1])  # Directly exclude last column of ff_factors and add constant\n",
    "Y = ffnew['RF']\n",
    "\n",
    "model = sm.OLS(Y, X, missing='drop')\n",
    "results = model.fit()\n",
    "\n",
    "# Assign computed values to the DataFrame\n",
    "for col, idx in columns[:4]:\n",
    "    n_df1.loc['RF', col] = float(results.params[idx])\n",
    "\n",
    "X = n_df1[['beta mkt','beta SMB','beta HML']]\n",
    "Y = ptf62.mean()\n",
    "Y = pd.concat([Y, pd.Series([ffnew['RF'].mean()], index=['RF'])])\n",
    "\n",
    "model = sm.OLS(Y, X)\n",
    "results = model.fit()\n",
    "results.params"
   ]
  }
 ],
 "metadata": {
  "kernelspec": {
   "display_name": "Python 3 (ipykernel)",
   "language": "python",
   "name": "python3"
  },
  "language_info": {
   "codemirror_mode": {
    "name": "ipython",
    "version": 3
   },
   "file_extension": ".py",
   "mimetype": "text/x-python",
   "name": "python",
   "nbconvert_exporter": "python",
   "pygments_lexer": "ipython3",
   "version": "3.8.18"
  }
 },
 "nbformat": 4,
 "nbformat_minor": 5
}
